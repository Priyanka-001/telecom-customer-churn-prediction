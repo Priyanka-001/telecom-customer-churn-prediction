{
 "cells": [
  {
   "cell_type": "code",
   "execution_count": 1,
   "metadata": {},
   "outputs": [],
   "source": [
    "import pandas as pd\n",
    "from sklearn import metrics\n",
    "from sklearn.model_selection import train_test_split\n",
    "from sklearn.metrics import recall_score\n",
    "from sklearn.metrics import classification_report\n",
    "from sklearn.metrics import confusion_matrix\n",
    "from sklearn.tree import DecisionTreeClassifier\n",
    "from imblearn.combine import SMOTEENN\n",
    "import tensorflow as tf\n",
    "from tensorflow import keras\n",
    "from matplotlib import pyplot as plt\n",
    "import os\n",
    "import numpy as np\n",
    "import seaborn as sns"
   ]
  },
  {
   "cell_type": "code",
   "execution_count": 2,
   "metadata": {},
   "outputs": [
    {
     "data": {
      "text/html": [
       "<div>\n",
       "<style scoped>\n",
       "    .dataframe tbody tr th:only-of-type {\n",
       "        vertical-align: middle;\n",
       "    }\n",
       "\n",
       "    .dataframe tbody tr th {\n",
       "        vertical-align: top;\n",
       "    }\n",
       "\n",
       "    .dataframe thead th {\n",
       "        text-align: right;\n",
       "    }\n",
       "</style>\n",
       "<table border=\"1\" class=\"dataframe\">\n",
       "  <thead>\n",
       "    <tr style=\"text-align: right;\">\n",
       "      <th></th>\n",
       "      <th>Unnamed: 0</th>\n",
       "      <th>SeniorCitizen</th>\n",
       "      <th>Partner</th>\n",
       "      <th>Dependents</th>\n",
       "      <th>PhoneService</th>\n",
       "      <th>PaperlessBilling</th>\n",
       "      <th>MonthlyCharges</th>\n",
       "      <th>TotalCharges</th>\n",
       "      <th>Churn</th>\n",
       "      <th>gender_Female</th>\n",
       "      <th>...</th>\n",
       "      <th>PaymentMethod_Bank transfer (automatic)</th>\n",
       "      <th>PaymentMethod_Credit card (automatic)</th>\n",
       "      <th>PaymentMethod_Electronic check</th>\n",
       "      <th>PaymentMethod_Mailed check</th>\n",
       "      <th>tenure_group_1-12</th>\n",
       "      <th>tenure_group_13-24</th>\n",
       "      <th>tenure_group_25-36</th>\n",
       "      <th>tenure_group_37-48</th>\n",
       "      <th>tenure_group_49-60</th>\n",
       "      <th>tenure_group_61-72</th>\n",
       "    </tr>\n",
       "  </thead>\n",
       "  <tbody>\n",
       "    <tr>\n",
       "      <th>0</th>\n",
       "      <td>0</td>\n",
       "      <td>0</td>\n",
       "      <td>1</td>\n",
       "      <td>0</td>\n",
       "      <td>0</td>\n",
       "      <td>1</td>\n",
       "      <td>29.85</td>\n",
       "      <td>29.85</td>\n",
       "      <td>0</td>\n",
       "      <td>1</td>\n",
       "      <td>...</td>\n",
       "      <td>0</td>\n",
       "      <td>0</td>\n",
       "      <td>1</td>\n",
       "      <td>0</td>\n",
       "      <td>1</td>\n",
       "      <td>0</td>\n",
       "      <td>0</td>\n",
       "      <td>0</td>\n",
       "      <td>0</td>\n",
       "      <td>0</td>\n",
       "    </tr>\n",
       "    <tr>\n",
       "      <th>1</th>\n",
       "      <td>1</td>\n",
       "      <td>0</td>\n",
       "      <td>0</td>\n",
       "      <td>0</td>\n",
       "      <td>1</td>\n",
       "      <td>0</td>\n",
       "      <td>56.95</td>\n",
       "      <td>1889.50</td>\n",
       "      <td>0</td>\n",
       "      <td>0</td>\n",
       "      <td>...</td>\n",
       "      <td>0</td>\n",
       "      <td>0</td>\n",
       "      <td>0</td>\n",
       "      <td>1</td>\n",
       "      <td>0</td>\n",
       "      <td>0</td>\n",
       "      <td>1</td>\n",
       "      <td>0</td>\n",
       "      <td>0</td>\n",
       "      <td>0</td>\n",
       "    </tr>\n",
       "    <tr>\n",
       "      <th>2</th>\n",
       "      <td>2</td>\n",
       "      <td>0</td>\n",
       "      <td>0</td>\n",
       "      <td>0</td>\n",
       "      <td>1</td>\n",
       "      <td>1</td>\n",
       "      <td>53.85</td>\n",
       "      <td>108.15</td>\n",
       "      <td>1</td>\n",
       "      <td>0</td>\n",
       "      <td>...</td>\n",
       "      <td>0</td>\n",
       "      <td>0</td>\n",
       "      <td>0</td>\n",
       "      <td>1</td>\n",
       "      <td>1</td>\n",
       "      <td>0</td>\n",
       "      <td>0</td>\n",
       "      <td>0</td>\n",
       "      <td>0</td>\n",
       "      <td>0</td>\n",
       "    </tr>\n",
       "    <tr>\n",
       "      <th>3</th>\n",
       "      <td>3</td>\n",
       "      <td>0</td>\n",
       "      <td>0</td>\n",
       "      <td>0</td>\n",
       "      <td>0</td>\n",
       "      <td>0</td>\n",
       "      <td>42.30</td>\n",
       "      <td>1840.75</td>\n",
       "      <td>0</td>\n",
       "      <td>0</td>\n",
       "      <td>...</td>\n",
       "      <td>1</td>\n",
       "      <td>0</td>\n",
       "      <td>0</td>\n",
       "      <td>0</td>\n",
       "      <td>0</td>\n",
       "      <td>0</td>\n",
       "      <td>0</td>\n",
       "      <td>1</td>\n",
       "      <td>0</td>\n",
       "      <td>0</td>\n",
       "    </tr>\n",
       "    <tr>\n",
       "      <th>4</th>\n",
       "      <td>4</td>\n",
       "      <td>0</td>\n",
       "      <td>0</td>\n",
       "      <td>0</td>\n",
       "      <td>1</td>\n",
       "      <td>1</td>\n",
       "      <td>70.70</td>\n",
       "      <td>151.65</td>\n",
       "      <td>1</td>\n",
       "      <td>1</td>\n",
       "      <td>...</td>\n",
       "      <td>0</td>\n",
       "      <td>0</td>\n",
       "      <td>1</td>\n",
       "      <td>0</td>\n",
       "      <td>1</td>\n",
       "      <td>0</td>\n",
       "      <td>0</td>\n",
       "      <td>0</td>\n",
       "      <td>0</td>\n",
       "      <td>0</td>\n",
       "    </tr>\n",
       "  </tbody>\n",
       "</table>\n",
       "<p>5 rows × 48 columns</p>\n",
       "</div>"
      ],
      "text/plain": [
       "   Unnamed: 0  SeniorCitizen  Partner  Dependents  PhoneService  \\\n",
       "0           0              0        1           0             0   \n",
       "1           1              0        0           0             1   \n",
       "2           2              0        0           0             1   \n",
       "3           3              0        0           0             0   \n",
       "4           4              0        0           0             1   \n",
       "\n",
       "   PaperlessBilling  MonthlyCharges  TotalCharges  Churn  gender_Female  ...  \\\n",
       "0                 1           29.85         29.85      0              1  ...   \n",
       "1                 0           56.95       1889.50      0              0  ...   \n",
       "2                 1           53.85        108.15      1              0  ...   \n",
       "3                 0           42.30       1840.75      0              0  ...   \n",
       "4                 1           70.70        151.65      1              1  ...   \n",
       "\n",
       "   PaymentMethod_Bank transfer (automatic)  \\\n",
       "0                                        0   \n",
       "1                                        0   \n",
       "2                                        0   \n",
       "3                                        1   \n",
       "4                                        0   \n",
       "\n",
       "   PaymentMethod_Credit card (automatic)  PaymentMethod_Electronic check  \\\n",
       "0                                      0                               1   \n",
       "1                                      0                               0   \n",
       "2                                      0                               0   \n",
       "3                                      0                               0   \n",
       "4                                      0                               1   \n",
       "\n",
       "   PaymentMethod_Mailed check  tenure_group_1-12  tenure_group_13-24  \\\n",
       "0                           0                  1                   0   \n",
       "1                           1                  0                   0   \n",
       "2                           1                  1                   0   \n",
       "3                           0                  0                   0   \n",
       "4                           0                  1                   0   \n",
       "\n",
       "   tenure_group_25-36  tenure_group_37-48  tenure_group_49-60  \\\n",
       "0                   0                   0                   0   \n",
       "1                   1                   0                   0   \n",
       "2                   0                   0                   0   \n",
       "3                   0                   1                   0   \n",
       "4                   0                   0                   0   \n",
       "\n",
       "   tenure_group_61-72  \n",
       "0                   0  \n",
       "1                   0  \n",
       "2                   0  \n",
       "3                   0  \n",
       "4                   0  \n",
       "\n",
       "[5 rows x 48 columns]"
      ]
     },
     "execution_count": 2,
     "metadata": {},
     "output_type": "execute_result"
    }
   ],
   "source": [
    "data=pd.read_csv(\"customer-churn-data-preprocessed.csv\")\n",
    "data.head()"
   ]
  },
  {
   "cell_type": "code",
   "execution_count": 3,
   "metadata": {},
   "outputs": [],
   "source": [
    "data=data.drop('Unnamed: 0',axis=1)"
   ]
  },
  {
   "cell_type": "code",
   "execution_count": 4,
   "metadata": {},
   "outputs": [],
   "source": [
    "X = data.drop([\"Churn\"],axis = \"columns\")\n",
    "y=data[\"Churn\"]"
   ]
  },
  {
   "cell_type": "code",
   "execution_count": 5,
   "metadata": {},
   "outputs": [],
   "source": [
    "X_train, X_test , y_train, y_test = train_test_split(X,y,train_size=0.8,random_state=800)"
   ]
  },
  {
   "cell_type": "code",
   "execution_count": 6,
   "metadata": {},
   "outputs": [
    {
     "data": {
      "text/plain": [
       "(5625, 46)"
      ]
     },
     "execution_count": 6,
     "metadata": {},
     "output_type": "execute_result"
    }
   ],
   "source": [
    "X_train.shape"
   ]
  },
  {
   "cell_type": "code",
   "execution_count": 7,
   "metadata": {},
   "outputs": [
    {
     "data": {
      "text/plain": [
       "(1407, 46)"
      ]
     },
     "execution_count": 7,
     "metadata": {},
     "output_type": "execute_result"
    }
   ],
   "source": [
    "X_test.shape"
   ]
  },
  {
   "cell_type": "code",
   "execution_count": 8,
   "metadata": {},
   "outputs": [],
   "source": [
    "os.environ[\"TF_XLA_FLAGS\"] = \"--tf_xla_enable_xla_devices\""
   ]
  },
  {
   "cell_type": "code",
   "execution_count": 9,
   "metadata": {},
   "outputs": [],
   "source": [
    "model = keras.Sequential([\n",
    "    keras.layers.Dense(units=40,input_shape=(46,), activation=\"relu\"),\n",
    "    keras.layers.Dense(units=15, activation=\"relu\"),\n",
    "    keras.layers.Dense(units=1,activation=\"sigmoid\")\n",
    "])"
   ]
  },
  {
   "cell_type": "code",
   "execution_count": 10,
   "metadata": {},
   "outputs": [],
   "source": [
    "model.compile(\n",
    "    optimizer = \"adam\",\n",
    "    loss = \"binary_crossentropy\",\n",
    "    metrics = [\"accuracy\"]\n",
    ")"
   ]
  },
  {
   "cell_type": "code",
   "execution_count": 11,
   "metadata": {},
   "outputs": [
    {
     "name": "stdout",
     "output_type": "stream",
     "text": [
      "Epoch 1/100\n"
     ]
    },
    {
     "name": "stdout",
     "output_type": "stream",
     "text": [
      "176/176 [==============================] - 2s 5ms/step - loss: 9.1164 - accuracy: 0.6747 - val_loss: 0.5891 - val_accuracy: 0.7839\n",
      "Epoch 2/100\n",
      "176/176 [==============================] - 0s 2ms/step - loss: 1.0131 - accuracy: 0.7342 - val_loss: 1.2100 - val_accuracy: 0.7896\n",
      "Epoch 3/100\n",
      "176/176 [==============================] - 0s 2ms/step - loss: 1.2063 - accuracy: 0.7328 - val_loss: 0.6188 - val_accuracy: 0.7818\n",
      "Epoch 4/100\n",
      "176/176 [==============================] - 0s 3ms/step - loss: 0.8599 - accuracy: 0.7493 - val_loss: 0.4896 - val_accuracy: 0.7584\n",
      "Epoch 5/100\n",
      "176/176 [==============================] - 0s 2ms/step - loss: 0.7207 - accuracy: 0.7678 - val_loss: 2.5853 - val_accuracy: 0.7690\n",
      "Epoch 6/100\n",
      "176/176 [==============================] - 0s 3ms/step - loss: 0.9335 - accuracy: 0.7586 - val_loss: 0.5352 - val_accuracy: 0.8024\n",
      "Epoch 7/100\n",
      "176/176 [==============================] - 0s 2ms/step - loss: 0.7610 - accuracy: 0.7572 - val_loss: 1.7832 - val_accuracy: 0.7868\n",
      "Epoch 8/100\n",
      "176/176 [==============================] - 0s 2ms/step - loss: 1.0252 - accuracy: 0.7556 - val_loss: 1.0046 - val_accuracy: 0.7967\n",
      "Epoch 9/100\n",
      "176/176 [==============================] - 0s 2ms/step - loss: 0.8781 - accuracy: 0.7641 - val_loss: 0.9186 - val_accuracy: 0.7946\n",
      "Epoch 10/100\n",
      "176/176 [==============================] - 0s 2ms/step - loss: 0.8227 - accuracy: 0.7625 - val_loss: 1.2215 - val_accuracy: 0.7868\n",
      "Epoch 11/100\n",
      "176/176 [==============================] - 0s 2ms/step - loss: 0.7288 - accuracy: 0.7627 - val_loss: 0.6886 - val_accuracy: 0.7989\n",
      "Epoch 12/100\n",
      "176/176 [==============================] - 0s 2ms/step - loss: 0.8022 - accuracy: 0.7628 - val_loss: 2.3671 - val_accuracy: 0.7811\n",
      "Epoch 13/100\n",
      "176/176 [==============================] - 0s 2ms/step - loss: 0.7713 - accuracy: 0.7632 - val_loss: 0.4691 - val_accuracy: 0.7982\n",
      "Epoch 14/100\n",
      "176/176 [==============================] - 0s 2ms/step - loss: 0.7458 - accuracy: 0.7648 - val_loss: 0.7536 - val_accuracy: 0.7896\n",
      "Epoch 15/100\n",
      "176/176 [==============================] - 0s 2ms/step - loss: 0.8367 - accuracy: 0.7660 - val_loss: 1.0575 - val_accuracy: 0.7996\n",
      "Epoch 16/100\n",
      "176/176 [==============================] - 0s 2ms/step - loss: 0.8457 - accuracy: 0.7547 - val_loss: 0.9297 - val_accuracy: 0.8010\n",
      "Epoch 17/100\n",
      "176/176 [==============================] - 0s 2ms/step - loss: 0.6760 - accuracy: 0.7639 - val_loss: 0.4871 - val_accuracy: 0.7562\n",
      "Epoch 18/100\n",
      "176/176 [==============================] - 0s 2ms/step - loss: 0.6935 - accuracy: 0.7730 - val_loss: 0.4780 - val_accuracy: 0.8053\n",
      "Epoch 19/100\n",
      "176/176 [==============================] - 0s 2ms/step - loss: 0.7015 - accuracy: 0.7762 - val_loss: 0.8576 - val_accuracy: 0.6482\n",
      "Epoch 20/100\n",
      "176/176 [==============================] - 0s 2ms/step - loss: 0.6645 - accuracy: 0.7833 - val_loss: 0.5695 - val_accuracy: 0.8010\n",
      "Epoch 21/100\n",
      "176/176 [==============================] - 0s 2ms/step - loss: 0.6608 - accuracy: 0.7680 - val_loss: 1.0569 - val_accuracy: 0.7925\n",
      "Epoch 22/100\n",
      "176/176 [==============================] - 1s 3ms/step - loss: 0.6933 - accuracy: 0.7703 - val_loss: 0.5049 - val_accuracy: 0.7932\n",
      "Epoch 23/100\n",
      "176/176 [==============================] - 0s 2ms/step - loss: 0.5811 - accuracy: 0.7751 - val_loss: 1.3686 - val_accuracy: 0.5537\n",
      "Epoch 24/100\n",
      "176/176 [==============================] - 0s 2ms/step - loss: 0.7323 - accuracy: 0.7641 - val_loss: 0.5448 - val_accuracy: 0.7932\n",
      "Epoch 25/100\n",
      "176/176 [==============================] - 0s 2ms/step - loss: 0.5639 - accuracy: 0.7820 - val_loss: 0.4819 - val_accuracy: 0.7989\n",
      "Epoch 26/100\n",
      "176/176 [==============================] - 0s 3ms/step - loss: 0.6730 - accuracy: 0.7716 - val_loss: 0.4497 - val_accuracy: 0.7747\n",
      "Epoch 27/100\n",
      "176/176 [==============================] - 0s 3ms/step - loss: 0.8123 - accuracy: 0.7719 - val_loss: 0.4679 - val_accuracy: 0.7918\n",
      "Epoch 28/100\n",
      "176/176 [==============================] - 0s 2ms/step - loss: 0.5802 - accuracy: 0.7790 - val_loss: 0.4374 - val_accuracy: 0.7939\n",
      "Epoch 29/100\n",
      "176/176 [==============================] - 0s 2ms/step - loss: 0.5984 - accuracy: 0.7785 - val_loss: 0.6944 - val_accuracy: 0.7846\n",
      "Epoch 30/100\n",
      "176/176 [==============================] - 0s 2ms/step - loss: 0.7027 - accuracy: 0.7724 - val_loss: 1.2650 - val_accuracy: 0.5608\n",
      "Epoch 31/100\n",
      "176/176 [==============================] - 1s 3ms/step - loss: 0.7206 - accuracy: 0.7689 - val_loss: 1.9919 - val_accuracy: 0.7719\n",
      "Epoch 32/100\n",
      "176/176 [==============================] - 0s 3ms/step - loss: 0.6537 - accuracy: 0.7732 - val_loss: 0.7645 - val_accuracy: 0.7939\n",
      "Epoch 33/100\n",
      "176/176 [==============================] - 0s 3ms/step - loss: 0.5180 - accuracy: 0.7836 - val_loss: 0.4343 - val_accuracy: 0.8003\n",
      "Epoch 34/100\n",
      "176/176 [==============================] - 1s 3ms/step - loss: 0.5935 - accuracy: 0.7767 - val_loss: 0.4837 - val_accuracy: 0.7960\n",
      "Epoch 35/100\n",
      "176/176 [==============================] - 0s 2ms/step - loss: 0.6220 - accuracy: 0.7794 - val_loss: 0.4861 - val_accuracy: 0.8024\n",
      "Epoch 36/100\n",
      "176/176 [==============================] - 0s 2ms/step - loss: 0.8149 - accuracy: 0.7680 - val_loss: 0.4503 - val_accuracy: 0.8010\n",
      "Epoch 37/100\n",
      "176/176 [==============================] - 0s 2ms/step - loss: 0.6845 - accuracy: 0.7701 - val_loss: 0.8097 - val_accuracy: 0.7967\n",
      "Epoch 38/100\n",
      "176/176 [==============================] - 0s 2ms/step - loss: 0.6570 - accuracy: 0.7716 - val_loss: 0.6308 - val_accuracy: 0.8003\n",
      "Epoch 39/100\n",
      "176/176 [==============================] - 0s 2ms/step - loss: 0.7589 - accuracy: 0.7620 - val_loss: 0.4351 - val_accuracy: 0.7967\n",
      "Epoch 40/100\n",
      "176/176 [==============================] - 0s 3ms/step - loss: 0.5674 - accuracy: 0.7740 - val_loss: 0.7250 - val_accuracy: 0.8010\n",
      "Epoch 41/100\n",
      "176/176 [==============================] - 0s 3ms/step - loss: 0.6765 - accuracy: 0.7742 - val_loss: 0.4888 - val_accuracy: 0.8003\n",
      "Epoch 42/100\n",
      "176/176 [==============================] - 1s 3ms/step - loss: 0.5952 - accuracy: 0.7669 - val_loss: 0.5129 - val_accuracy: 0.8010\n",
      "Epoch 43/100\n",
      "176/176 [==============================] - 0s 2ms/step - loss: 0.5783 - accuracy: 0.7749 - val_loss: 0.9701 - val_accuracy: 0.7932\n",
      "Epoch 44/100\n",
      "176/176 [==============================] - 1s 3ms/step - loss: 0.5699 - accuracy: 0.7796 - val_loss: 0.4631 - val_accuracy: 0.7662\n",
      "Epoch 45/100\n",
      "176/176 [==============================] - 0s 2ms/step - loss: 0.5031 - accuracy: 0.7892 - val_loss: 0.5356 - val_accuracy: 0.8010\n",
      "Epoch 46/100\n",
      "176/176 [==============================] - 0s 3ms/step - loss: 0.5080 - accuracy: 0.7877 - val_loss: 0.5243 - val_accuracy: 0.7193\n",
      "Epoch 47/100\n",
      "176/176 [==============================] - 0s 2ms/step - loss: 0.8958 - accuracy: 0.7588 - val_loss: 0.4877 - val_accuracy: 0.7783\n",
      "Epoch 48/100\n",
      "176/176 [==============================] - 0s 2ms/step - loss: 0.6540 - accuracy: 0.7753 - val_loss: 0.5138 - val_accuracy: 0.7520\n",
      "Epoch 49/100\n",
      "176/176 [==============================] - 0s 2ms/step - loss: 0.6031 - accuracy: 0.7744 - val_loss: 0.4639 - val_accuracy: 0.7704\n",
      "Epoch 50/100\n",
      "176/176 [==============================] - 0s 2ms/step - loss: 0.5856 - accuracy: 0.7780 - val_loss: 0.4597 - val_accuracy: 0.7974\n",
      "Epoch 51/100\n",
      "176/176 [==============================] - 0s 2ms/step - loss: 0.4936 - accuracy: 0.7861 - val_loss: 0.4549 - val_accuracy: 0.8024\n",
      "Epoch 52/100\n",
      "176/176 [==============================] - 0s 2ms/step - loss: 0.5280 - accuracy: 0.7833 - val_loss: 0.6827 - val_accuracy: 0.6823\n",
      "Epoch 53/100\n",
      "176/176 [==============================] - 0s 2ms/step - loss: 0.5499 - accuracy: 0.7826 - val_loss: 0.4922 - val_accuracy: 0.7392\n",
      "Epoch 54/100\n",
      "176/176 [==============================] - 0s 2ms/step - loss: 0.5513 - accuracy: 0.7794 - val_loss: 0.4751 - val_accuracy: 0.8024\n",
      "Epoch 55/100\n",
      "176/176 [==============================] - 0s 2ms/step - loss: 0.5991 - accuracy: 0.7767 - val_loss: 0.4318 - val_accuracy: 0.8045\n",
      "Epoch 56/100\n",
      "176/176 [==============================] - 1s 3ms/step - loss: 0.5620 - accuracy: 0.7806 - val_loss: 0.5495 - val_accuracy: 0.8031\n",
      "Epoch 57/100\n",
      "176/176 [==============================] - 1s 5ms/step - loss: 0.5393 - accuracy: 0.7849 - val_loss: 0.5683 - val_accuracy: 0.8003\n",
      "Epoch 58/100\n",
      "176/176 [==============================] - 1s 4ms/step - loss: 0.4731 - accuracy: 0.7916 - val_loss: 0.4827 - val_accuracy: 0.8024\n",
      "Epoch 59/100\n",
      "176/176 [==============================] - 1s 4ms/step - loss: 0.5467 - accuracy: 0.7796 - val_loss: 0.5129 - val_accuracy: 0.7249\n",
      "Epoch 60/100\n",
      "176/176 [==============================] - 1s 5ms/step - loss: 0.5385 - accuracy: 0.7858 - val_loss: 0.6806 - val_accuracy: 0.6759\n",
      "Epoch 61/100\n",
      "176/176 [==============================] - 1s 4ms/step - loss: 0.5292 - accuracy: 0.7804 - val_loss: 0.6219 - val_accuracy: 0.7974\n",
      "Epoch 62/100\n",
      "176/176 [==============================] - 1s 4ms/step - loss: 0.5490 - accuracy: 0.7812 - val_loss: 0.6592 - val_accuracy: 0.7996\n",
      "Epoch 63/100\n",
      "176/176 [==============================] - 1s 5ms/step - loss: 0.5325 - accuracy: 0.7748 - val_loss: 0.5451 - val_accuracy: 0.7996\n",
      "Epoch 64/100\n",
      "176/176 [==============================] - 1s 5ms/step - loss: 0.5766 - accuracy: 0.7822 - val_loss: 0.5505 - val_accuracy: 0.7143\n",
      "Epoch 65/100\n",
      "176/176 [==============================] - 1s 4ms/step - loss: 0.4877 - accuracy: 0.7852 - val_loss: 0.4700 - val_accuracy: 0.8003\n",
      "Epoch 66/100\n",
      "176/176 [==============================] - 1s 5ms/step - loss: 0.5223 - accuracy: 0.7822 - val_loss: 0.4522 - val_accuracy: 0.7960\n",
      "Epoch 67/100\n",
      "176/176 [==============================] - 1s 5ms/step - loss: 0.5644 - accuracy: 0.7716 - val_loss: 0.4796 - val_accuracy: 0.8010\n",
      "Epoch 68/100\n",
      "176/176 [==============================] - 1s 5ms/step - loss: 0.6437 - accuracy: 0.7739 - val_loss: 0.5128 - val_accuracy: 0.8003\n",
      "Epoch 69/100\n",
      "176/176 [==============================] - 1s 5ms/step - loss: 0.4936 - accuracy: 0.7863 - val_loss: 0.4357 - val_accuracy: 0.8031\n",
      "Epoch 70/100\n",
      "176/176 [==============================] - 1s 5ms/step - loss: 0.4825 - accuracy: 0.7911 - val_loss: 0.5122 - val_accuracy: 0.7299\n",
      "Epoch 71/100\n",
      "176/176 [==============================] - 1s 5ms/step - loss: 0.5170 - accuracy: 0.7824 - val_loss: 0.4386 - val_accuracy: 0.8031\n",
      "Epoch 72/100\n",
      "176/176 [==============================] - 1s 5ms/step - loss: 0.4722 - accuracy: 0.7938 - val_loss: 0.7214 - val_accuracy: 0.6581\n",
      "Epoch 73/100\n",
      "176/176 [==============================] - 1s 5ms/step - loss: 0.4825 - accuracy: 0.7902 - val_loss: 0.4673 - val_accuracy: 0.7584\n",
      "Epoch 74/100\n",
      "176/176 [==============================] - 1s 5ms/step - loss: 0.4690 - accuracy: 0.7877 - val_loss: 0.6429 - val_accuracy: 0.8045\n",
      "Epoch 75/100\n",
      "176/176 [==============================] - 1s 5ms/step - loss: 0.5245 - accuracy: 0.7783 - val_loss: 0.4230 - val_accuracy: 0.7939\n",
      "Epoch 76/100\n",
      "176/176 [==============================] - 1s 5ms/step - loss: 0.4703 - accuracy: 0.7925 - val_loss: 0.6297 - val_accuracy: 0.7989\n",
      "Epoch 77/100\n",
      "176/176 [==============================] - 1s 5ms/step - loss: 0.4989 - accuracy: 0.7812 - val_loss: 0.5666 - val_accuracy: 0.7960\n",
      "Epoch 78/100\n",
      "176/176 [==============================] - 1s 5ms/step - loss: 0.4830 - accuracy: 0.7868 - val_loss: 0.5509 - val_accuracy: 0.7982\n",
      "Epoch 79/100\n",
      "176/176 [==============================] - 1s 5ms/step - loss: 0.4909 - accuracy: 0.7918 - val_loss: 0.7460 - val_accuracy: 0.6489\n",
      "Epoch 80/100\n",
      "176/176 [==============================] - 1s 5ms/step - loss: 0.4834 - accuracy: 0.7920 - val_loss: 0.4411 - val_accuracy: 0.8017\n",
      "Epoch 81/100\n",
      "176/176 [==============================] - 1s 5ms/step - loss: 0.5291 - accuracy: 0.7826 - val_loss: 0.4550 - val_accuracy: 0.7683\n",
      "Epoch 82/100\n",
      "176/176 [==============================] - 1s 5ms/step - loss: 0.4619 - accuracy: 0.7957 - val_loss: 0.6025 - val_accuracy: 0.6915\n",
      "Epoch 83/100\n",
      "176/176 [==============================] - 1s 5ms/step - loss: 0.5369 - accuracy: 0.7785 - val_loss: 0.4331 - val_accuracy: 0.8081\n",
      "Epoch 84/100\n",
      "176/176 [==============================] - 1s 5ms/step - loss: 0.5014 - accuracy: 0.7904 - val_loss: 0.4855 - val_accuracy: 0.8010\n",
      "Epoch 85/100\n",
      "176/176 [==============================] - 1s 5ms/step - loss: 0.5515 - accuracy: 0.7787 - val_loss: 0.4258 - val_accuracy: 0.7903\n",
      "Epoch 86/100\n",
      "176/176 [==============================] - 1s 5ms/step - loss: 0.5315 - accuracy: 0.7824 - val_loss: 0.4389 - val_accuracy: 0.7804\n",
      "Epoch 87/100\n",
      "176/176 [==============================] - 1s 4ms/step - loss: 0.4779 - accuracy: 0.7877 - val_loss: 0.5069 - val_accuracy: 0.7271\n",
      "Epoch 88/100\n",
      "176/176 [==============================] - 0s 2ms/step - loss: 0.5751 - accuracy: 0.7792 - val_loss: 0.4507 - val_accuracy: 0.7768\n",
      "Epoch 89/100\n",
      "176/176 [==============================] - 0s 2ms/step - loss: 0.5154 - accuracy: 0.7858 - val_loss: 0.5236 - val_accuracy: 0.8031\n",
      "Epoch 90/100\n",
      "176/176 [==============================] - 0s 3ms/step - loss: 0.4665 - accuracy: 0.7883 - val_loss: 0.5582 - val_accuracy: 0.7982\n",
      "Epoch 91/100\n",
      "176/176 [==============================] - 0s 2ms/step - loss: 0.4744 - accuracy: 0.7929 - val_loss: 0.6920 - val_accuracy: 0.8010\n",
      "Epoch 92/100\n",
      "176/176 [==============================] - 0s 2ms/step - loss: 0.4690 - accuracy: 0.7924 - val_loss: 0.4227 - val_accuracy: 0.8038\n",
      "Epoch 93/100\n",
      "176/176 [==============================] - 0s 2ms/step - loss: 0.4801 - accuracy: 0.7915 - val_loss: 0.4645 - val_accuracy: 0.8003\n",
      "Epoch 94/100\n",
      "176/176 [==============================] - 0s 2ms/step - loss: 0.4768 - accuracy: 0.7884 - val_loss: 0.5274 - val_accuracy: 0.7207\n",
      "Epoch 95/100\n",
      "176/176 [==============================] - 0s 2ms/step - loss: 0.4659 - accuracy: 0.7916 - val_loss: 0.4232 - val_accuracy: 0.8017\n",
      "Epoch 96/100\n",
      "176/176 [==============================] - 0s 2ms/step - loss: 0.4411 - accuracy: 0.7963 - val_loss: 0.4277 - val_accuracy: 0.7918\n",
      "Epoch 97/100\n",
      "176/176 [==============================] - 0s 2ms/step - loss: 0.4439 - accuracy: 0.8025 - val_loss: 0.4384 - val_accuracy: 0.8010\n",
      "Epoch 98/100\n",
      "176/176 [==============================] - 0s 2ms/step - loss: 0.4482 - accuracy: 0.8012 - val_loss: 0.4852 - val_accuracy: 0.7996\n",
      "Epoch 99/100\n",
      "176/176 [==============================] - 0s 2ms/step - loss: 0.4710 - accuracy: 0.7918 - val_loss: 0.4179 - val_accuracy: 0.8017\n",
      "Epoch 100/100\n",
      "176/176 [==============================] - 0s 2ms/step - loss: 0.4701 - accuracy: 0.7906 - val_loss: 0.4247 - val_accuracy: 0.7932\n"
     ]
    },
    {
     "data": {
      "text/plain": [
       "<keras.src.callbacks.History at 0x237b42a2050>"
      ]
     },
     "execution_count": 11,
     "metadata": {},
     "output_type": "execute_result"
    }
   ],
   "source": [
    "model.fit(X_train, y_train, validation_data=(X_test,y_test),epochs=100)"
   ]
  },
  {
   "cell_type": "code",
   "execution_count": 12,
   "metadata": {},
   "outputs": [
    {
     "name": "stdout",
     "output_type": "stream",
     "text": [
      "44/44 [==============================] - 0s 1ms/step\n"
     ]
    }
   ],
   "source": [
    "y_predictions = model.predict(X_test)"
   ]
  },
  {
   "cell_type": "code",
   "execution_count": 13,
   "metadata": {},
   "outputs": [
    {
     "data": {
      "text/plain": [
       "array([0.0179544], dtype=float32)"
      ]
     },
     "execution_count": 13,
     "metadata": {},
     "output_type": "execute_result"
    }
   ],
   "source": [
    "y_predictions[0]"
   ]
  },
  {
   "cell_type": "code",
   "execution_count": 14,
   "metadata": {},
   "outputs": [],
   "source": [
    "y_predictions = [1 if prediction > 0.5 else 0 for prediction in y_predictions]"
   ]
  },
  {
   "cell_type": "code",
   "execution_count": 15,
   "metadata": {},
   "outputs": [
    {
     "data": {
      "text/plain": [
       "0"
      ]
     },
     "execution_count": 15,
     "metadata": {},
     "output_type": "execute_result"
    }
   ],
   "source": [
    "y_predictions[0]"
   ]
  },
  {
   "cell_type": "code",
   "execution_count": 16,
   "metadata": {},
   "outputs": [
    {
     "name": "stdout",
     "output_type": "stream",
     "text": [
      "44/44 [==============================] - 0s 2ms/step - loss: 0.4247 - accuracy: 0.7932\n"
     ]
    },
    {
     "data": {
      "text/plain": [
       "[0.42469915747642517, 0.7931769490242004]"
      ]
     },
     "execution_count": 16,
     "metadata": {},
     "output_type": "execute_result"
    }
   ],
   "source": [
    "model.evaluate(X_test,y_test)"
   ]
  },
  {
   "cell_type": "code",
   "execution_count": 17,
   "metadata": {},
   "outputs": [],
   "source": [
    "from sklearn.metrics import classification_report, confusion_matrix"
   ]
  },
  {
   "cell_type": "code",
   "execution_count": 18,
   "metadata": {},
   "outputs": [
    {
     "name": "stdout",
     "output_type": "stream",
     "text": [
      "              precision    recall  f1-score   support\n",
      "\n",
      "           0       0.86      0.86      0.86      1046\n",
      "           1       0.59      0.61      0.60       361\n",
      "\n",
      "    accuracy                           0.79      1407\n",
      "   macro avg       0.73      0.73      0.73      1407\n",
      "weighted avg       0.80      0.79      0.79      1407\n",
      "\n"
     ]
    }
   ],
   "source": [
    "print(classification_report(y_test,y_predictions))"
   ]
  },
  {
   "cell_type": "code",
   "execution_count": 19,
   "metadata": {},
   "outputs": [
    {
     "data": {
      "text/plain": [
       "array([[895, 151],\n",
       "       [140, 221]], dtype=int64)"
      ]
     },
     "execution_count": 19,
     "metadata": {},
     "output_type": "execute_result"
    }
   ],
   "source": [
    "cm = confusion_matrix(y_test, y_predictions)\n",
    "cm"
   ]
  },
  {
   "cell_type": "code",
   "execution_count": 20,
   "metadata": {},
   "outputs": [
    {
     "data": {
      "image/png": "[encoded data removed]",
      "text/plain": [
       "<Figure size 1200x700 with 2 Axes>"
      ]
     },
     "metadata": {},
     "output_type": "display_data"
    }
   ],
   "source": [
    "plt.figure(figsize=(12,7))\n",
    "plt.title(\"confusion_matrix\",fontsize=18)\n",
    "sns.heatmap(cm,annot=True)\n",
    "plt.xlabel(\"Predictions\")\n",
    "plt.ylabel(\"Truth\")\n",
    "plt.show()"
   ]
  }
 ],
 "metadata": {
  "kernelspec": {
   "display_name": "Python 3",
   "language": "python",
   "name": "python3"
  },
  "language_info": {
   "codemirror_mode": {
    "name": "ipython",
    "version": 3
   },
   "file_extension": ".py",
   "mimetype": "text/x-python",
   "name": "python",
   "nbconvert_exporter": "python",
   "pygments_lexer": "ipython3",
   "version": "3.10.11"
  }
 },
 "nbformat": 4,
 "nbformat_minor": 2
}
